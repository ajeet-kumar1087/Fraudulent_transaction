{
  "nbformat": 4,
  "nbformat_minor": 0,
  "metadata": {
    "colab": {
      "name": "Fraudulent_transaction.ipynb",
      "provenance": [],
      "mount_file_id": "1ce_e3hAkv7rDZIy09jKIGYFsVV82_WQe",
      "authorship_tag": "ABX9TyNLipp2YCexrassHCRmujBm"
    },
    "kernelspec": {
      "name": "python3",
      "display_name": "Python 3"
    },
    "language_info": {
      "name": "python"
    }
  },
  "cells": [
    {
      "cell_type": "code",
      "execution_count": 51,
      "metadata": {
        "id": "dwz94yHJ5gLA"
      },
      "outputs": [],
      "source": [
        ""
      ]
    },
    {
      "cell_type": "markdown",
      "source": [
        "Importing the libraries\n"
      ],
      "metadata": {
        "id": "dFtPQFOV5mCA"
      }
    },
    {
      "cell_type": "code",
      "source": [
        "import pandas as pd\n",
        "import numpy as np\n",
        "import seaborn as sns\n",
        "import matplotlib.pyplot as plt\n",
        "\n",
        "from sklearn.model_selection import train_test_split\n"
      ],
      "metadata": {
        "id": "nw-rK9KP5ouQ"
      },
      "execution_count": 52,
      "outputs": []
    },
    {
      "cell_type": "code",
      "source": [
        "data = pd.read_csv('/content/drive/MyDrive/Cohort Hudson/Module 4- Machine Learning/Ensemble_methods/Copy of creditcard.csv')"
      ],
      "metadata": {
        "id": "XA86p5dn5_Xj"
      },
      "execution_count": 53,
      "outputs": []
    },
    {
      "cell_type": "code",
      "source": [
        "data.head()"
      ],
      "metadata": {
        "colab": {
          "base_uri": "https://localhost:8080/",
          "height": 300
        },
        "id": "kvTu_HdI6fqJ",
        "outputId": "8ff015ca-378c-4fbe-f147-ba0cabc71359"
      },
      "execution_count": 54,
      "outputs": [
        {
          "output_type": "execute_result",
          "data": {
            "text/plain": [
              "         V1        V2        V3        V4        V5        V6        V7  \\\n",
              "0  0.114697  0.796303 -0.149553 -0.823011  0.878763 -0.553152  0.939259   \n",
              "1 -0.039318  0.495784 -0.810884  0.546693  1.986257  4.386342 -1.344891   \n",
              "2  2.275706 -1.531508 -1.021969 -1.602152 -1.220329 -0.462376 -1.196485   \n",
              "3  1.940137 -0.357671 -1.210551  0.382523  0.050823 -0.171322 -0.109124   \n",
              "4  1.081395 -0.502615  1.075887 -0.543359 -1.472946 -1.065484 -0.443231   \n",
              "\n",
              "         V8        V9       V10  ...       V21       V22       V23       V24  \\\n",
              "0 -0.108502  0.111137 -0.390521  ... -0.335776 -0.807853 -0.055940 -1.025281   \n",
              "1 -1.743736 -0.563103 -0.616315  ... -1.377003 -0.072200 -0.197573  1.014807   \n",
              "2 -0.147058 -0.950224  1.560463  ... -0.193271 -0.103533  0.150945 -0.811083   \n",
              "3 -0.002115  0.869258 -0.001965  ...  0.157994  0.650355  0.034206  0.739535   \n",
              "4 -0.143374  1.659826 -1.131238  ...  0.224157  0.821209 -0.137223  0.986259   \n",
              "\n",
              "        V25       V26       V27       V28    V29  Target  \n",
              "0 -0.369557  0.204653  0.242724  0.085713   0.89       0  \n",
              "1  1.011293 -0.167684  0.113136  0.256836  85.00       0  \n",
              "2 -0.197913 -0.128446  0.014197 -0.051289  42.70       0  \n",
              "3  0.223605 -0.195509 -0.012791 -0.056841  29.99       0  \n",
              "4  0.563228 -0.574206  0.089673  0.052036  68.00       0  \n",
              "\n",
              "[5 rows x 30 columns]"
            ],
            "text/html": [
              "\n",
              "  <div id=\"df-91c82b6a-e064-4055-b15f-37476d2ad448\">\n",
              "    <div class=\"colab-df-container\">\n",
              "      <div>\n",
              "<style scoped>\n",
              "    .dataframe tbody tr th:only-of-type {\n",
              "        vertical-align: middle;\n",
              "    }\n",
              "\n",
              "    .dataframe tbody tr th {\n",
              "        vertical-align: top;\n",
              "    }\n",
              "\n",
              "    .dataframe thead th {\n",
              "        text-align: right;\n",
              "    }\n",
              "</style>\n",
              "<table border=\"1\" class=\"dataframe\">\n",
              "  <thead>\n",
              "    <tr style=\"text-align: right;\">\n",
              "      <th></th>\n",
              "      <th>V1</th>\n",
              "      <th>V2</th>\n",
              "      <th>V3</th>\n",
              "      <th>V4</th>\n",
              "      <th>V5</th>\n",
              "      <th>V6</th>\n",
              "      <th>V7</th>\n",
              "      <th>V8</th>\n",
              "      <th>V9</th>\n",
              "      <th>V10</th>\n",
              "      <th>...</th>\n",
              "      <th>V21</th>\n",
              "      <th>V22</th>\n",
              "      <th>V23</th>\n",
              "      <th>V24</th>\n",
              "      <th>V25</th>\n",
              "      <th>V26</th>\n",
              "      <th>V27</th>\n",
              "      <th>V28</th>\n",
              "      <th>V29</th>\n",
              "      <th>Target</th>\n",
              "    </tr>\n",
              "  </thead>\n",
              "  <tbody>\n",
              "    <tr>\n",
              "      <th>0</th>\n",
              "      <td>0.114697</td>\n",
              "      <td>0.796303</td>\n",
              "      <td>-0.149553</td>\n",
              "      <td>-0.823011</td>\n",
              "      <td>0.878763</td>\n",
              "      <td>-0.553152</td>\n",
              "      <td>0.939259</td>\n",
              "      <td>-0.108502</td>\n",
              "      <td>0.111137</td>\n",
              "      <td>-0.390521</td>\n",
              "      <td>...</td>\n",
              "      <td>-0.335776</td>\n",
              "      <td>-0.807853</td>\n",
              "      <td>-0.055940</td>\n",
              "      <td>-1.025281</td>\n",
              "      <td>-0.369557</td>\n",
              "      <td>0.204653</td>\n",
              "      <td>0.242724</td>\n",
              "      <td>0.085713</td>\n",
              "      <td>0.89</td>\n",
              "      <td>0</td>\n",
              "    </tr>\n",
              "    <tr>\n",
              "      <th>1</th>\n",
              "      <td>-0.039318</td>\n",
              "      <td>0.495784</td>\n",
              "      <td>-0.810884</td>\n",
              "      <td>0.546693</td>\n",
              "      <td>1.986257</td>\n",
              "      <td>4.386342</td>\n",
              "      <td>-1.344891</td>\n",
              "      <td>-1.743736</td>\n",
              "      <td>-0.563103</td>\n",
              "      <td>-0.616315</td>\n",
              "      <td>...</td>\n",
              "      <td>-1.377003</td>\n",
              "      <td>-0.072200</td>\n",
              "      <td>-0.197573</td>\n",
              "      <td>1.014807</td>\n",
              "      <td>1.011293</td>\n",
              "      <td>-0.167684</td>\n",
              "      <td>0.113136</td>\n",
              "      <td>0.256836</td>\n",
              "      <td>85.00</td>\n",
              "      <td>0</td>\n",
              "    </tr>\n",
              "    <tr>\n",
              "      <th>2</th>\n",
              "      <td>2.275706</td>\n",
              "      <td>-1.531508</td>\n",
              "      <td>-1.021969</td>\n",
              "      <td>-1.602152</td>\n",
              "      <td>-1.220329</td>\n",
              "      <td>-0.462376</td>\n",
              "      <td>-1.196485</td>\n",
              "      <td>-0.147058</td>\n",
              "      <td>-0.950224</td>\n",
              "      <td>1.560463</td>\n",
              "      <td>...</td>\n",
              "      <td>-0.193271</td>\n",
              "      <td>-0.103533</td>\n",
              "      <td>0.150945</td>\n",
              "      <td>-0.811083</td>\n",
              "      <td>-0.197913</td>\n",
              "      <td>-0.128446</td>\n",
              "      <td>0.014197</td>\n",
              "      <td>-0.051289</td>\n",
              "      <td>42.70</td>\n",
              "      <td>0</td>\n",
              "    </tr>\n",
              "    <tr>\n",
              "      <th>3</th>\n",
              "      <td>1.940137</td>\n",
              "      <td>-0.357671</td>\n",
              "      <td>-1.210551</td>\n",
              "      <td>0.382523</td>\n",
              "      <td>0.050823</td>\n",
              "      <td>-0.171322</td>\n",
              "      <td>-0.109124</td>\n",
              "      <td>-0.002115</td>\n",
              "      <td>0.869258</td>\n",
              "      <td>-0.001965</td>\n",
              "      <td>...</td>\n",
              "      <td>0.157994</td>\n",
              "      <td>0.650355</td>\n",
              "      <td>0.034206</td>\n",
              "      <td>0.739535</td>\n",
              "      <td>0.223605</td>\n",
              "      <td>-0.195509</td>\n",
              "      <td>-0.012791</td>\n",
              "      <td>-0.056841</td>\n",
              "      <td>29.99</td>\n",
              "      <td>0</td>\n",
              "    </tr>\n",
              "    <tr>\n",
              "      <th>4</th>\n",
              "      <td>1.081395</td>\n",
              "      <td>-0.502615</td>\n",
              "      <td>1.075887</td>\n",
              "      <td>-0.543359</td>\n",
              "      <td>-1.472946</td>\n",
              "      <td>-1.065484</td>\n",
              "      <td>-0.443231</td>\n",
              "      <td>-0.143374</td>\n",
              "      <td>1.659826</td>\n",
              "      <td>-1.131238</td>\n",
              "      <td>...</td>\n",
              "      <td>0.224157</td>\n",
              "      <td>0.821209</td>\n",
              "      <td>-0.137223</td>\n",
              "      <td>0.986259</td>\n",
              "      <td>0.563228</td>\n",
              "      <td>-0.574206</td>\n",
              "      <td>0.089673</td>\n",
              "      <td>0.052036</td>\n",
              "      <td>68.00</td>\n",
              "      <td>0</td>\n",
              "    </tr>\n",
              "  </tbody>\n",
              "</table>\n",
              "<p>5 rows × 30 columns</p>\n",
              "</div>\n",
              "      <button class=\"colab-df-convert\" onclick=\"convertToInteractive('df-91c82b6a-e064-4055-b15f-37476d2ad448')\"\n",
              "              title=\"Convert this dataframe to an interactive table.\"\n",
              "              style=\"display:none;\">\n",
              "        \n",
              "  <svg xmlns=\"http://www.w3.org/2000/svg\" height=\"24px\"viewBox=\"0 0 24 24\"\n",
              "       width=\"24px\">\n",
              "    <path d=\"M0 0h24v24H0V0z\" fill=\"none\"/>\n",
              "    <path d=\"M18.56 5.44l.94 2.06.94-2.06 2.06-.94-2.06-.94-.94-2.06-.94 2.06-2.06.94zm-11 1L8.5 8.5l.94-2.06 2.06-.94-2.06-.94L8.5 2.5l-.94 2.06-2.06.94zm10 10l.94 2.06.94-2.06 2.06-.94-2.06-.94-.94-2.06-.94 2.06-2.06.94z\"/><path d=\"M17.41 7.96l-1.37-1.37c-.4-.4-.92-.59-1.43-.59-.52 0-1.04.2-1.43.59L10.3 9.45l-7.72 7.72c-.78.78-.78 2.05 0 2.83L4 21.41c.39.39.9.59 1.41.59.51 0 1.02-.2 1.41-.59l7.78-7.78 2.81-2.81c.8-.78.8-2.07 0-2.86zM5.41 20L4 18.59l7.72-7.72 1.47 1.35L5.41 20z\"/>\n",
              "  </svg>\n",
              "      </button>\n",
              "      \n",
              "  <style>\n",
              "    .colab-df-container {\n",
              "      display:flex;\n",
              "      flex-wrap:wrap;\n",
              "      gap: 12px;\n",
              "    }\n",
              "\n",
              "    .colab-df-convert {\n",
              "      background-color: #E8F0FE;\n",
              "      border: none;\n",
              "      border-radius: 50%;\n",
              "      cursor: pointer;\n",
              "      display: none;\n",
              "      fill: #1967D2;\n",
              "      height: 32px;\n",
              "      padding: 0 0 0 0;\n",
              "      width: 32px;\n",
              "    }\n",
              "\n",
              "    .colab-df-convert:hover {\n",
              "      background-color: #E2EBFA;\n",
              "      box-shadow: 0px 1px 2px rgba(60, 64, 67, 0.3), 0px 1px 3px 1px rgba(60, 64, 67, 0.15);\n",
              "      fill: #174EA6;\n",
              "    }\n",
              "\n",
              "    [theme=dark] .colab-df-convert {\n",
              "      background-color: #3B4455;\n",
              "      fill: #D2E3FC;\n",
              "    }\n",
              "\n",
              "    [theme=dark] .colab-df-convert:hover {\n",
              "      background-color: #434B5C;\n",
              "      box-shadow: 0px 1px 3px 1px rgba(0, 0, 0, 0.15);\n",
              "      filter: drop-shadow(0px 1px 2px rgba(0, 0, 0, 0.3));\n",
              "      fill: #FFFFFF;\n",
              "    }\n",
              "  </style>\n",
              "\n",
              "      <script>\n",
              "        const buttonEl =\n",
              "          document.querySelector('#df-91c82b6a-e064-4055-b15f-37476d2ad448 button.colab-df-convert');\n",
              "        buttonEl.style.display =\n",
              "          google.colab.kernel.accessAllowed ? 'block' : 'none';\n",
              "\n",
              "        async function convertToInteractive(key) {\n",
              "          const element = document.querySelector('#df-91c82b6a-e064-4055-b15f-37476d2ad448');\n",
              "          const dataTable =\n",
              "            await google.colab.kernel.invokeFunction('convertToInteractive',\n",
              "                                                     [key], {});\n",
              "          if (!dataTable) return;\n",
              "\n",
              "          const docLinkHtml = 'Like what you see? Visit the ' +\n",
              "            '<a target=\"_blank\" href=https://colab.research.google.com/notebooks/data_table.ipynb>data table notebook</a>'\n",
              "            + ' to learn more about interactive tables.';\n",
              "          element.innerHTML = '';\n",
              "          dataTable['output_type'] = 'display_data';\n",
              "          await google.colab.output.renderOutput(dataTable, element);\n",
              "          const docLink = document.createElement('div');\n",
              "          docLink.innerHTML = docLinkHtml;\n",
              "          element.appendChild(docLink);\n",
              "        }\n",
              "      </script>\n",
              "    </div>\n",
              "  </div>\n",
              "  "
            ]
          },
          "metadata": {},
          "execution_count": 54
        }
      ]
    },
    {
      "cell_type": "code",
      "source": [
        "data.shape"
      ],
      "metadata": {
        "colab": {
          "base_uri": "https://localhost:8080/"
        },
        "id": "HeEt7htB6s7E",
        "outputId": "2c6e7c1e-1410-4f8a-a670-7e68c171d06a"
      },
      "execution_count": 55,
      "outputs": [
        {
          "output_type": "execute_result",
          "data": {
            "text/plain": [
              "(56962, 30)"
            ]
          },
          "metadata": {},
          "execution_count": 55
        }
      ]
    },
    {
      "cell_type": "code",
      "source": [
        "data.Target.value_counts()"
      ],
      "metadata": {
        "colab": {
          "base_uri": "https://localhost:8080/"
        },
        "id": "xUw6Ha7J6w51",
        "outputId": "2ace65d6-8dd3-4a34-95bd-0509e7df6efd"
      },
      "execution_count": 56,
      "outputs": [
        {
          "output_type": "execute_result",
          "data": {
            "text/plain": [
              "0    56864\n",
              "1       98\n",
              "Name: Target, dtype: int64"
            ]
          },
          "metadata": {},
          "execution_count": 56
        }
      ]
    },
    {
      "cell_type": "markdown",
      "source": [
        "Highly Imbalance data"
      ],
      "metadata": {
        "id": "z2_UT89j68yt"
      }
    },
    {
      "cell_type": "code",
      "source": [
        "plt.figure(figsize = (10,8))\n",
        "g = sns.countplot(data['Target'])\n",
        "g.set_xticklabels(['not fraudulent', 'fraudulent'])\n",
        "plt.show()"
      ],
      "metadata": {
        "colab": {
          "base_uri": "https://localhost:8080/",
          "height": 552
        },
        "id": "Xko0lraQ62zq",
        "outputId": "68593138-6772-4934-b201-6161a41fe057"
      },
      "execution_count": 57,
      "outputs": [
        {
          "output_type": "stream",
          "name": "stderr",
          "text": [
            "/usr/local/lib/python3.7/dist-packages/seaborn/_decorators.py:43: FutureWarning: Pass the following variable as a keyword arg: x. From version 0.12, the only valid positional argument will be `data`, and passing other arguments without an explicit keyword will result in an error or misinterpretation.\n",
            "  FutureWarning\n"
          ]
        },
        {
          "output_type": "display_data",
          "data": {
            "text/plain": [
              "<Figure size 720x576 with 1 Axes>"
            ],
            "image/png": "[encoded data removed]"
          },
          "metadata": {
            "needs_background": "light"
          }
        }
      ]
    },
    {
      "cell_type": "code",
      "source": [
        "from sklearn.model_selection import train_test_split"
      ],
      "metadata": {
        "id": "bd3fDOjD7TR2"
      },
      "execution_count": 58,
      "outputs": []
    },
    {
      "cell_type": "code",
      "source": [
        "X = data.iloc[:,:-1]\n",
        "y = data.iloc[:, -1]"
      ],
      "metadata": {
        "id": "POVuIvtc7bds"
      },
      "execution_count": 59,
      "outputs": []
    },
    {
      "cell_type": "code",
      "source": [
        "X_train, X_val, y_train, y_val = train_test_split(X,y, test_size = 0.2, random_state = 42)"
      ],
      "metadata": {
        "id": "C93A9dCg7l6a"
      },
      "execution_count": 60,
      "outputs": []
    },
    {
      "cell_type": "code",
      "source": [
        "print('distribution in train set')\n",
        "print(y_train.value_counts())\n",
        "print('distribution in validation set')\n",
        "print(y_val.value_counts())"
      ],
      "metadata": {
        "colab": {
          "base_uri": "https://localhost:8080/"
        },
        "id": "5SGHrwYe7upO",
        "outputId": "dd400037-8afb-402d-f0d2-fa3cb81113bd"
      },
      "execution_count": 61,
      "outputs": [
        {
          "output_type": "stream",
          "name": "stdout",
          "text": [
            "distribution in train set\n",
            "0    45487\n",
            "1       82\n",
            "Name: Target, dtype: int64\n",
            "distribution in validation set\n",
            "0    11377\n",
            "1       16\n",
            "Name: Target, dtype: int64\n"
          ]
        }
      ]
    },
    {
      "cell_type": "code",
      "source": [
        "from sklearn.linear_model import LogisticRegression\n",
        "log_reg = LogisticRegression()"
      ],
      "metadata": {
        "id": "k32S_T2M7_YV"
      },
      "execution_count": 62,
      "outputs": []
    },
    {
      "cell_type": "code",
      "source": [
        "log_reg.fit(X_train,y_train)\n",
        "y_pred = log_reg.predict(X_val)"
      ],
      "metadata": {
        "colab": {
          "base_uri": "https://localhost:8080/"
        },
        "id": "5ozraDp18WYQ",
        "outputId": "91141118-50ad-4497-9f15-da4e9271ed82"
      },
      "execution_count": 63,
      "outputs": [
        {
          "output_type": "stream",
          "name": "stderr",
          "text": [
            "/usr/local/lib/python3.7/dist-packages/sklearn/linear_model/_logistic.py:818: ConvergenceWarning: lbfgs failed to converge (status=1):\n",
            "STOP: TOTAL NO. of ITERATIONS REACHED LIMIT.\n",
            "\n",
            "Increase the number of iterations (max_iter) or scale the data as shown in:\n",
            "    https://scikit-learn.org/stable/modules/preprocessing.html\n",
            "Please also refer to the documentation for alternative solver options:\n",
            "    https://scikit-learn.org/stable/modules/linear_model.html#logistic-regression\n",
            "  extra_warning_msg=_LOGISTIC_SOLVER_CONVERGENCE_MSG,\n"
          ]
        }
      ]
    },
    {
      "cell_type": "code",
      "source": [
        "from sklearn.metrics import accuracy_score, confusion_matrix, roc_auc_score\n"
      ],
      "metadata": {
        "id": "CNLxD9gX8eRC"
      },
      "execution_count": 64,
      "outputs": []
    },
    {
      "cell_type": "code",
      "source": [
        "print(\"Accuracy:\", accuracy_score(y_pred,y_val))\n",
        "print(\"Confusion Matrix:\", confusion_matrix(y_pred,y_val))\n",
        "print(\"Roc_auc_score:\", roc_auc_score(y_pred, y_val))\n",
        "#Despite the high accuracy, auc of roc is very low due to highly imbalance dataset"
      ],
      "metadata": {
        "colab": {
          "base_uri": "https://localhost:8080/"
        },
        "id": "74oAGaSI8oX0",
        "outputId": "e814ed96-819e-4c8e-9713-8346b835fe46"
      },
      "execution_count": 65,
      "outputs": [
        {
          "output_type": "stream",
          "name": "stdout",
          "text": [
            "Accuracy: 0.9991222680593347\n",
            "Confusion Matrix: [[11372     5]\n",
            " [    5    11]]\n",
            "Roc_auc_score: 0.8435302584161027\n"
          ]
        }
      ]
    },
    {
      "cell_type": "markdown",
      "source": [
        "use penalized algorithms"
      ],
      "metadata": {
        "id": "n423RzKZ_fJS"
      }
    },
    {
      "cell_type": "code",
      "source": [
        "from sklearn.svm import SVC\n",
        "svc = SVC(class_weight = 'balanced', probability =True)"
      ],
      "metadata": {
        "id": "p8t5tZZ3_eSX"
      },
      "execution_count": 111,
      "outputs": []
    },
    {
      "cell_type": "code",
      "source": [
        "svc.fit(X_train, y_train)\n",
        "y_pred_svc = svc.predict(X_val)\n"
      ],
      "metadata": {
        "id": "Hp_Dth03_d1s"
      },
      "execution_count": null,
      "outputs": []
    },
    {
      "cell_type": "code",
      "source": [
        "print('ROC AUC:', roc_auc_score(y_pred_svc, y_val))\n",
        "print('Accuracy:', accuracy_score(y_pred_svc, y_val))"
      ],
      "metadata": {
        "id": "yv59llmZ_5Or"
      },
      "execution_count": 68,
      "outputs": []
    },
    {
      "cell_type": "markdown",
      "source": [
        "Using XGB for prediction"
      ],
      "metadata": {
        "id": "Db0K_wbhAat6"
      }
    },
    {
      "cell_type": "code",
      "source": [
        "from xgboost import XGBClassifier\n",
        "xgb = XGBClassifier()"
      ],
      "metadata": {
        "id": "iwsbjkF9AaOb"
      },
      "execution_count": 69,
      "outputs": []
    },
    {
      "cell_type": "code",
      "source": [
        "xgb.fit(X_train, y_train)\n",
        "y_pred_xgb = xgb.predict(X_val)"
      ],
      "metadata": {
        "id": "VnQELjXMBVfQ"
      },
      "execution_count": 70,
      "outputs": []
    },
    {
      "cell_type": "code",
      "source": [
        "print('ROC AUC:', roc_auc_score(y_pred_xgb, y_val))\n",
        "print('Accuracy:', accuracy_score(y_pred_xgb, y_val))"
      ],
      "metadata": {
        "colab": {
          "base_uri": "https://localhost:8080/"
        },
        "id": "SeuS3SYNGhY3",
        "outputId": "ca26f892-8fb8-4b13-e534-1f5c32d0d3fc"
      },
      "execution_count": 71,
      "outputs": [
        {
          "output_type": "stream",
          "name": "stdout",
          "text": [
            "ROC AUC: 0.8822210846363862\n",
            "Accuracy: 0.9993855876415343\n"
          ]
        }
      ]
    },
    {
      "cell_type": "markdown",
      "source": [
        "Resample the datasets"
      ],
      "metadata": {
        "id": "eqayBsyn9XAt"
      }
    },
    {
      "cell_type": "code",
      "source": [
        "label_0 = data[data['Target'] == 0]\n",
        "label_1 = data[data['Target'] == 1]\n",
        "\n",
        "print(label_0.shape)\n",
        "print(label_1.shape)"
      ],
      "metadata": {
        "colab": {
          "base_uri": "https://localhost:8080/"
        },
        "id": "mWqyJok-81Z8",
        "outputId": "461c0457-8c4d-4615-8819-8924d16c1692"
      },
      "execution_count": 72,
      "outputs": [
        {
          "output_type": "stream",
          "name": "stdout",
          "text": [
            "(56864, 30)\n",
            "(98, 30)\n"
          ]
        }
      ]
    },
    {
      "cell_type": "code",
      "source": [
        "#use SMOTE for resampling the datasets"
      ],
      "metadata": {
        "id": "G0IIqPOV-iN6"
      },
      "execution_count": 73,
      "outputs": []
    },
    {
      "cell_type": "code",
      "source": [
        "from imblearn.over_sampling import SMOTE\n",
        "smote = SMOTE()"
      ],
      "metadata": {
        "id": "GnMlrNeH-3VL"
      },
      "execution_count": 74,
      "outputs": []
    },
    {
      "cell_type": "code",
      "source": [
        "x_smote, y_smote = smote.fit_resample(data.iloc[:, 0:-1], data['Target'])\n"
      ],
      "metadata": {
        "id": "g8QZxpPV-970"
      },
      "execution_count": 75,
      "outputs": []
    },
    {
      "cell_type": "code",
      "source": [
        "print('original data:', len(data))\n",
        "print('resampled data:', len(y_smote))"
      ],
      "metadata": {
        "colab": {
          "base_uri": "https://localhost:8080/"
        },
        "id": "jXASAKKf_KH9",
        "outputId": "070137f8-9638-4466-b662-e7e1739fff49"
      },
      "execution_count": 76,
      "outputs": [
        {
          "output_type": "stream",
          "name": "stdout",
          "text": [
            "original data: 56962\n",
            "resampled data: 113728\n"
          ]
        }
      ]
    },
    {
      "cell_type": "markdown",
      "source": [
        "Using SMOTE and DNN"
      ],
      "metadata": {
        "id": "s1MZp17EG2Ni"
      }
    },
    {
      "cell_type": "code",
      "source": [
        "X_train, X_val, y_train, y_val = train_test_split(x_smote, y_smote, test_size = 0.2, random_state = 42)"
      ],
      "metadata": {
        "id": "6Xy7PjygG1QJ"
      },
      "execution_count": 77,
      "outputs": []
    },
    {
      "cell_type": "code",
      "source": [
        "from tensorflow import keras"
      ],
      "metadata": {
        "id": "oA7w5wBx_SrI"
      },
      "execution_count": 78,
      "outputs": []
    },
    {
      "cell_type": "code",
      "source": [
        "def DNN():\n",
        "  model = keras.Sequential([\n",
        "          keras.layers.Flatten(input_shape = [X_train.shape[-1]]),\n",
        "          keras.layers.Dense(256, activation = 'relu'),\n",
        "          keras.layers.Dense(128, activation = 'relu'),\n",
        "          keras.layers.Dense(256, activation = 'relu'),\n",
        "          keras.layers.Dense(128, activation = 'relu'),\n",
        "          keras.layers.Dense(64, activation = 'relu'),\n",
        "          keras.layers.Dropout(0.5),\n",
        "          keras.layers.Dense(9, activation= 'softmax')\n",
        "    ])\n",
        "  model.compile(optimizer = 'adam', loss = 'sparse_categorical_crossentropy', metrics = ['accuracy'])\n",
        "  return model"
      ],
      "metadata": {
        "id": "ADJh3gglHJ19"
      },
      "execution_count": 79,
      "outputs": []
    },
    {
      "cell_type": "code",
      "source": [
        "import tensorflow as tf\n",
        "batch_size = 128\n",
        "train_ds = tf.data.Dataset.from_tensor_slices((X_train, y_train)).shuffle(len(X_train)).batch(batch_size)\n",
        "val_ds = tf.data.Dataset.from_tensor_slices((X_val, y_val)).batch(batch_size)\n",
        "\n",
        "model = DNN()\n",
        "fit = model.fit(train_ds, validation_data = val_ds, epochs = 25)"
      ],
      "metadata": {
        "colab": {
          "base_uri": "https://localhost:8080/"
        },
        "id": "008i7XDzIPEj",
        "outputId": "f6f1debc-9294-4f9b-bb6d-4d49d136edb7"
      },
      "execution_count": 80,
      "outputs": [
        {
          "output_type": "stream",
          "name": "stdout",
          "text": [
            "Epoch 1/25\n",
            "711/711 [==============================] - 9s 11ms/step - loss: 0.1772 - accuracy: 0.9597 - val_loss: 0.0455 - val_accuracy: 0.9860\n",
            "Epoch 2/25\n",
            "711/711 [==============================] - 5s 7ms/step - loss: 0.0789 - accuracy: 0.9804 - val_loss: 0.0331 - val_accuracy: 0.9876\n",
            "Epoch 3/25\n",
            "711/711 [==============================] - 5s 7ms/step - loss: 0.0331 - accuracy: 0.9902 - val_loss: 0.0388 - val_accuracy: 0.9850\n",
            "Epoch 4/25\n",
            "711/711 [==============================] - 5s 6ms/step - loss: 0.0378 - accuracy: 0.9907 - val_loss: 0.0219 - val_accuracy: 0.9929\n",
            "Epoch 5/25\n",
            "711/711 [==============================] - 5s 6ms/step - loss: 0.0358 - accuracy: 0.9911 - val_loss: 0.0457 - val_accuracy: 0.9875\n",
            "Epoch 6/25\n",
            "711/711 [==============================] - 5s 6ms/step - loss: 0.0245 - accuracy: 0.9926 - val_loss: 0.0107 - val_accuracy: 0.9959\n",
            "Epoch 7/25\n",
            "711/711 [==============================] - 5s 6ms/step - loss: 0.0201 - accuracy: 0.9945 - val_loss: 0.0130 - val_accuracy: 0.9944\n",
            "Epoch 8/25\n",
            "711/711 [==============================] - 5s 7ms/step - loss: 0.0176 - accuracy: 0.9949 - val_loss: 0.0235 - val_accuracy: 0.9938\n",
            "Epoch 9/25\n",
            "711/711 [==============================] - 5s 6ms/step - loss: 0.0154 - accuracy: 0.9956 - val_loss: 0.0127 - val_accuracy: 0.9968\n",
            "Epoch 10/25\n",
            "711/711 [==============================] - 5s 6ms/step - loss: 0.0137 - accuracy: 0.9957 - val_loss: 0.0102 - val_accuracy: 0.9978\n",
            "Epoch 11/25\n",
            "711/711 [==============================] - 5s 6ms/step - loss: 0.0119 - accuracy: 0.9966 - val_loss: 0.0071 - val_accuracy: 0.9979\n",
            "Epoch 12/25\n",
            "711/711 [==============================] - 5s 6ms/step - loss: 0.0081 - accuracy: 0.9978 - val_loss: 0.0064 - val_accuracy: 0.9991\n",
            "Epoch 13/25\n",
            "711/711 [==============================] - 5s 6ms/step - loss: 0.0084 - accuracy: 0.9977 - val_loss: 0.0075 - val_accuracy: 0.9982\n",
            "Epoch 14/25\n",
            "711/711 [==============================] - 5s 7ms/step - loss: 0.0132 - accuracy: 0.9961 - val_loss: 0.0129 - val_accuracy: 0.9953\n",
            "Epoch 15/25\n",
            "711/711 [==============================] - 5s 7ms/step - loss: 0.0110 - accuracy: 0.9971 - val_loss: 0.0049 - val_accuracy: 0.9996\n",
            "Epoch 16/25\n",
            "711/711 [==============================] - 5s 7ms/step - loss: 0.0120 - accuracy: 0.9965 - val_loss: 0.0074 - val_accuracy: 0.9983\n",
            "Epoch 17/25\n",
            "711/711 [==============================] - 5s 7ms/step - loss: 0.0052 - accuracy: 0.9986 - val_loss: 0.0106 - val_accuracy: 0.9981\n",
            "Epoch 18/25\n",
            "711/711 [==============================] - 5s 6ms/step - loss: 0.0104 - accuracy: 0.9971 - val_loss: 0.0176 - val_accuracy: 0.9950\n",
            "Epoch 19/25\n",
            "711/711 [==============================] - 5s 7ms/step - loss: 0.0132 - accuracy: 0.9960 - val_loss: 0.0062 - val_accuracy: 0.9989\n",
            "Epoch 20/25\n",
            "711/711 [==============================] - 5s 6ms/step - loss: 0.0059 - accuracy: 0.9982 - val_loss: 0.0071 - val_accuracy: 0.9984\n",
            "Epoch 21/25\n",
            "711/711 [==============================] - 4s 6ms/step - loss: 0.0076 - accuracy: 0.9977 - val_loss: 0.0050 - val_accuracy: 0.9993\n",
            "Epoch 22/25\n",
            "711/711 [==============================] - 4s 6ms/step - loss: 0.0082 - accuracy: 0.9982 - val_loss: 0.0052 - val_accuracy: 0.9984\n",
            "Epoch 23/25\n",
            "711/711 [==============================] - 5s 6ms/step - loss: 0.0065 - accuracy: 0.9984 - val_loss: 0.0227 - val_accuracy: 0.9900\n",
            "Epoch 24/25\n",
            "711/711 [==============================] - 4s 6ms/step - loss: 0.0060 - accuracy: 0.9982 - val_loss: 0.0057 - val_accuracy: 0.9983\n",
            "Epoch 25/25\n",
            "711/711 [==============================] - 6s 9ms/step - loss: 0.0060 - accuracy: 0.9983 - val_loss: 0.0089 - val_accuracy: 0.9968\n"
          ]
        }
      ]
    },
    {
      "cell_type": "code",
      "source": [
        "plt.plot(fit.history['accuracy'], color = 'blue')\n",
        "plt.plot(fit.history['val_accuracy'], color = 'red')"
      ],
      "metadata": {
        "colab": {
          "base_uri": "https://localhost:8080/",
          "height": 282
        },
        "id": "AYI09VvhJDW-",
        "outputId": "1d1c8296-fbb5-477a-bdfa-9fd94ad8adcd"
      },
      "execution_count": 81,
      "outputs": [
        {
          "output_type": "execute_result",
          "data": {
            "text/plain": [
              "[<matplotlib.lines.Line2D at 0x7f3af1fe4cd0>]"
            ]
          },
          "metadata": {},
          "execution_count": 81
        },
        {
          "output_type": "display_data",
          "data": {
            "text/plain": [
              "<Figure size 432x288 with 1 Axes>"
            ],
            "image/png": "[encoded data removed]"
          },
          "metadata": {
            "needs_background": "light"
          }
        }
      ]
    },
    {
      "cell_type": "code",
      "source": [
        "predict_x_train = np.argmax(model.predict(X_train), axis = -1)\n",
        "#y_pred_train_nn = np.argmax(predict_x_train,axis = 1)"
      ],
      "metadata": {
        "id": "e3rNMJMFJO3b"
      },
      "execution_count": 107,
      "outputs": []
    },
    {
      "cell_type": "code",
      "source": [
        "predict_x_train.shape"
      ],
      "metadata": {
        "colab": {
          "base_uri": "https://localhost:8080/"
        },
        "id": "CcrRdgByONAy",
        "outputId": "4821eba0-5b5a-40c7-cd2b-0015a0701a0d"
      },
      "execution_count": 108,
      "outputs": [
        {
          "output_type": "execute_result",
          "data": {
            "text/plain": [
              "(90982,)"
            ]
          },
          "metadata": {},
          "execution_count": 108
        }
      ]
    },
    {
      "cell_type": "code",
      "source": [
        "y_train.shape"
      ],
      "metadata": {
        "colab": {
          "base_uri": "https://localhost:8080/"
        },
        "id": "8FdznXgTOaan",
        "outputId": "8e07b056-fc5b-4a37-bde7-392f478d0646"
      },
      "execution_count": 105,
      "outputs": [
        {
          "output_type": "execute_result",
          "data": {
            "text/plain": [
              "(90982,)"
            ]
          },
          "metadata": {},
          "execution_count": 105
        }
      ]
    },
    {
      "cell_type": "code",
      "source": [
        "print('ROCAUC of train data : ', roc_auc_score(predict_x_train, y_train))\n",
        "print('ACCURACY of train data:', accuracy_score(predict_x_train, y_train))"
      ],
      "metadata": {
        "colab": {
          "base_uri": "https://localhost:8080/"
        },
        "id": "TYun0-KfNKot",
        "outputId": "06ec2f86-9e84-4a2c-e0b3-eed04ecb1581"
      },
      "execution_count": 109,
      "outputs": [
        {
          "output_type": "stream",
          "name": "stdout",
          "text": [
            "ROCAUC of train data :  0.9969498246149153\n",
            "ACCURACY of train data: 0.9969224681805192\n"
          ]
        }
      ]
    },
    {
      "cell_type": "code",
      "source": [
        "predict_x=model.predict(val_ds) \n",
        "y_pred_val_nn=np.argmax(predict_x,axis=1)"
      ],
      "metadata": {
        "id": "zGWO_szTME1S"
      },
      "execution_count": 98,
      "outputs": []
    },
    {
      "cell_type": "code",
      "source": [
        "y_pred_val_nn.shape"
      ],
      "metadata": {
        "colab": {
          "base_uri": "https://localhost:8080/"
        },
        "id": "Owjy6BMWOig1",
        "outputId": "a091b452-510d-460a-bad4-6da6c0d3cac5"
      },
      "execution_count": 106,
      "outputs": [
        {
          "output_type": "execute_result",
          "data": {
            "text/plain": [
              "(22746,)"
            ]
          },
          "metadata": {},
          "execution_count": 106
        }
      ]
    },
    {
      "cell_type": "code",
      "source": [
        "print('ROCAUC of validation data: ', roc_auc_score(y_pred_val_nn, y_val))\n",
        "print('ACCURACY of validation data: ', accuracy_score(y_pred_val_nn, y_val))"
      ],
      "metadata": {
        "colab": {
          "base_uri": "https://localhost:8080/"
        },
        "id": "3XGR-k27JVWo",
        "outputId": "1eb13bd0-9e75-4c6c-cd7b-d1f196d5f988"
      },
      "execution_count": 110,
      "outputs": [
        {
          "output_type": "stream",
          "name": "stdout",
          "text": [
            "ROCAUC of validation data:  0.9968189449500751\n",
            "ACCURACY of validation data:  0.996834608282775\n"
          ]
        }
      ]
    }
  ]
}